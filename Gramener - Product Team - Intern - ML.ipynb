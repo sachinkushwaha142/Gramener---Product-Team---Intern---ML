{
 "cells": [
  {
   "cell_type": "code",
   "execution_count": 1,
   "metadata": {},
   "outputs": [],
   "source": [
    "import pandas as pd\n",
    "import numpy as np\n",
    "import seaborn as sns\n",
    "import matplotlib.pyplot as plt\n",
    "import scipy\n",
    "%matplotlib inline \n",
    "import warnings\n",
    "warnings.filterwarnings('ignore')"
   ]
  },
  {
   "cell_type": "code",
   "execution_count": 2,
   "metadata": {},
   "outputs": [],
   "source": [
    "import matplotlib.pyplot as plt\n",
    "%matplotlib inline \n",
    "import numpy as np"
   ]
  },
  {
   "cell_type": "code",
   "execution_count": 6,
   "metadata": {},
   "outputs": [
    {
     "name": "stdout",
     "output_type": "stream",
     "text": [
      "Logistic Regression model accuracy(in %): 73.8\n",
      "\n",
      "\n",
      "**classification**\n",
      "             precision    recall  f1-score   support\n",
      "\n",
      "          0       0.77      0.90      0.83       700\n",
      "          1       0.61      0.35      0.45       300\n",
      "\n",
      "avg / total       0.72      0.74      0.71      1000\n",
      "\n",
      "ROC accuracy(in %): 75.16333333333334\n"
     ]
    }
   ],
   "source": [
    "from sklearn.preprocessing import LabelEncoder\n",
    "\n",
    "# read the dataset\n",
    "df=pd.read_csv('german_credit.csv')\n",
    "\n",
    "# converting the categorical data into the numeric data\n",
    "lb=LabelEncoder()\n",
    "df.account_check_status=lb.fit_transform(df.account_check_status)\n",
    "df.credit_history=lb.fit_transform(df.credit_history)\n",
    "df.purpose=lb.fit_transform(df.purpose)\n",
    "df.savings=lb.fit_transform(df.savings)\n",
    "df.present_emp_since=lb.fit_transform(df.present_emp_since)\n",
    "df.personal_status_sex=lb.fit_transform(df.personal_status_sex)\n",
    "df.property=lb.fit_transform(df.property)\n",
    "df.other_debtors=lb.fit_transform(df.other_debtors)\n",
    "df.other_installment_plans=lb.fit_transform(df.other_installment_plans)\n",
    "df.housing=lb.fit_transform(df.housing)\n",
    "df.job=lb.fit_transform(df.job)\n",
    "df.telephone=lb.fit_transform(df.telephone)\n",
    "df.foreign_worker=lb.fit_transform(df.foreign_worker)\n",
    "\n",
    "# defining feature matrix(X) and response vector(y) \n",
    "X=df.drop(['default','people_under_maintenance'],axis=1)\n",
    "Y=df['default']\n",
    "\n",
    "# split X and Y in the training and testing sets\n",
    "from sklearn.cross_validation import train_test_split\n",
    "from sklearn.linear_model import LogisticRegression\n",
    "Xtrain,Xtest,ytrain,ytest=train_test_split(X,Y,test_size=0.25, random_state=0)\n",
    "\n",
    "# create logistic regression object \n",
    "model=LogisticRegression()\n",
    "\n",
    "# train the model using the training sets\n",
    "model.fit(Xtrain,ytrain)\n",
    "\n",
    "# making predictions on the testing set \n",
    "y_model=model.predict(Xtest)\n",
    "\n",
    "# comparing actual response values (y_test) with predicted response values (y_model) \n",
    "from sklearn.metrics import accuracy_score\n",
    "from sklearn.metrics import confusion_matrix\n",
    "from sklearn.metrics import classification_report,roc_auc_score\n",
    "print(\"Logistic Regression model accuracy(in %):\",accuracy_score(ytest,y_model)*100)\n",
    "print('\\n')\n",
    "print(\"**classification**\")\n",
    "print(classification_report(Y,model.predict(X)))\n",
    "print(\"ROC accuracy(in %):\",roc_auc_score(Y,model.predict_proba(X)[:,1])*100)"
   ]
  },
  {
   "cell_type": "code",
   "execution_count": 7,
   "metadata": {},
   "outputs": [
    {
     "name": "stdout",
     "output_type": "stream",
     "text": [
      "accuracy score= 1.0\n"
     ]
    }
   ],
   "source": [
    "#by using the SVC\n",
    "from sklearn.svm import SVC\n",
    "model=SVC()\n",
    "model.fit(X,Y)\n",
    "print(\"accuracy score=\",accuracy_score(Y,model.predict(X)))"
   ]
  },
  {
   "cell_type": "code",
   "execution_count": null,
   "metadata": {},
   "outputs": [],
   "source": []
  }
 ],
 "metadata": {
  "kernelspec": {
   "display_name": "Python 3",
   "language": "python",
   "name": "python3"
  },
  "language_info": {
   "codemirror_mode": {
    "name": "ipython",
    "version": 3
   },
   "file_extension": ".py",
   "mimetype": "text/x-python",
   "name": "python",
   "nbconvert_exporter": "python",
   "pygments_lexer": "ipython3",
   "version": "3.6.5"
  }
 },
 "nbformat": 4,
 "nbformat_minor": 2
}
